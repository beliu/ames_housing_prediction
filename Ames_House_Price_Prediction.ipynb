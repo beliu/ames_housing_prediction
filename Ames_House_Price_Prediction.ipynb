{
 "cells": [
  {
   "cell_type": "code",
   "execution_count": 1,
   "metadata": {},
   "outputs": [],
   "source": [
    "import pandas as pd\n",
    "import numpy as np\n",
    "import matplotlib.pyplot as plt\n",
    "import helper\n",
    "from importlib import reload\n",
    "%config InlineBackend.figure_format='retina'"
   ]
  },
  {
   "cell_type": "code",
   "execution_count": 5,
   "metadata": {},
   "outputs": [
    {
     "data": {
      "text/plain": [
       "<module 'helper' from '/Users/beili/Dropbox/Competitions/Kaggle/New_House_Prices/helper.py'>"
      ]
     },
     "execution_count": 5,
     "metadata": {},
     "output_type": "execute_result"
    }
   ],
   "source": [
    "reload(helper)"
   ]
  },
  {
   "cell_type": "code",
   "execution_count": 3,
   "metadata": {},
   "outputs": [
    {
     "data": {
      "text/html": [
       "<div>\n",
       "<style scoped>\n",
       "    .dataframe tbody tr th:only-of-type {\n",
       "        vertical-align: middle;\n",
       "    }\n",
       "\n",
       "    .dataframe tbody tr th {\n",
       "        vertical-align: top;\n",
       "    }\n",
       "\n",
       "    .dataframe thead th {\n",
       "        text-align: right;\n",
       "    }\n",
       "</style>\n",
       "<table border=\"1\" class=\"dataframe\">\n",
       "  <thead>\n",
       "    <tr style=\"text-align: right;\">\n",
       "      <th></th>\n",
       "      <th>PID</th>\n",
       "      <th>MS SubClass</th>\n",
       "      <th>MS Zoning</th>\n",
       "      <th>Lot Frontage</th>\n",
       "      <th>Lot Area</th>\n",
       "      <th>Street</th>\n",
       "      <th>Alley</th>\n",
       "      <th>Lot Shape</th>\n",
       "      <th>Land Contour</th>\n",
       "      <th>Utilities</th>\n",
       "      <th>...</th>\n",
       "      <th>Pool Area</th>\n",
       "      <th>Pool QC</th>\n",
       "      <th>Fence</th>\n",
       "      <th>Misc Feature</th>\n",
       "      <th>Misc Val</th>\n",
       "      <th>Mo Sold</th>\n",
       "      <th>Yr Sold</th>\n",
       "      <th>Sale Type</th>\n",
       "      <th>Sale Condition</th>\n",
       "      <th>SalePrice</th>\n",
       "    </tr>\n",
       "    <tr>\n",
       "      <th>Order</th>\n",
       "      <th></th>\n",
       "      <th></th>\n",
       "      <th></th>\n",
       "      <th></th>\n",
       "      <th></th>\n",
       "      <th></th>\n",
       "      <th></th>\n",
       "      <th></th>\n",
       "      <th></th>\n",
       "      <th></th>\n",
       "      <th></th>\n",
       "      <th></th>\n",
       "      <th></th>\n",
       "      <th></th>\n",
       "      <th></th>\n",
       "      <th></th>\n",
       "      <th></th>\n",
       "      <th></th>\n",
       "      <th></th>\n",
       "      <th></th>\n",
       "      <th></th>\n",
       "    </tr>\n",
       "  </thead>\n",
       "  <tbody>\n",
       "    <tr>\n",
       "      <th>1</th>\n",
       "      <td>526301100</td>\n",
       "      <td>20</td>\n",
       "      <td>RL</td>\n",
       "      <td>141.0</td>\n",
       "      <td>31770</td>\n",
       "      <td>Pave</td>\n",
       "      <td>NaN</td>\n",
       "      <td>IR1</td>\n",
       "      <td>Lvl</td>\n",
       "      <td>AllPub</td>\n",
       "      <td>...</td>\n",
       "      <td>0</td>\n",
       "      <td>NaN</td>\n",
       "      <td>NaN</td>\n",
       "      <td>NaN</td>\n",
       "      <td>0</td>\n",
       "      <td>5</td>\n",
       "      <td>2010</td>\n",
       "      <td>WD</td>\n",
       "      <td>Normal</td>\n",
       "      <td>215000</td>\n",
       "    </tr>\n",
       "    <tr>\n",
       "      <th>2</th>\n",
       "      <td>526350040</td>\n",
       "      <td>20</td>\n",
       "      <td>RH</td>\n",
       "      <td>80.0</td>\n",
       "      <td>11622</td>\n",
       "      <td>Pave</td>\n",
       "      <td>NaN</td>\n",
       "      <td>Reg</td>\n",
       "      <td>Lvl</td>\n",
       "      <td>AllPub</td>\n",
       "      <td>...</td>\n",
       "      <td>0</td>\n",
       "      <td>NaN</td>\n",
       "      <td>MnPrv</td>\n",
       "      <td>NaN</td>\n",
       "      <td>0</td>\n",
       "      <td>6</td>\n",
       "      <td>2010</td>\n",
       "      <td>WD</td>\n",
       "      <td>Normal</td>\n",
       "      <td>105000</td>\n",
       "    </tr>\n",
       "    <tr>\n",
       "      <th>3</th>\n",
       "      <td>526351010</td>\n",
       "      <td>20</td>\n",
       "      <td>RL</td>\n",
       "      <td>81.0</td>\n",
       "      <td>14267</td>\n",
       "      <td>Pave</td>\n",
       "      <td>NaN</td>\n",
       "      <td>IR1</td>\n",
       "      <td>Lvl</td>\n",
       "      <td>AllPub</td>\n",
       "      <td>...</td>\n",
       "      <td>0</td>\n",
       "      <td>NaN</td>\n",
       "      <td>NaN</td>\n",
       "      <td>Gar2</td>\n",
       "      <td>12500</td>\n",
       "      <td>6</td>\n",
       "      <td>2010</td>\n",
       "      <td>WD</td>\n",
       "      <td>Normal</td>\n",
       "      <td>172000</td>\n",
       "    </tr>\n",
       "    <tr>\n",
       "      <th>4</th>\n",
       "      <td>526353030</td>\n",
       "      <td>20</td>\n",
       "      <td>RL</td>\n",
       "      <td>93.0</td>\n",
       "      <td>11160</td>\n",
       "      <td>Pave</td>\n",
       "      <td>NaN</td>\n",
       "      <td>Reg</td>\n",
       "      <td>Lvl</td>\n",
       "      <td>AllPub</td>\n",
       "      <td>...</td>\n",
       "      <td>0</td>\n",
       "      <td>NaN</td>\n",
       "      <td>NaN</td>\n",
       "      <td>NaN</td>\n",
       "      <td>0</td>\n",
       "      <td>4</td>\n",
       "      <td>2010</td>\n",
       "      <td>WD</td>\n",
       "      <td>Normal</td>\n",
       "      <td>244000</td>\n",
       "    </tr>\n",
       "    <tr>\n",
       "      <th>5</th>\n",
       "      <td>527105010</td>\n",
       "      <td>60</td>\n",
       "      <td>RL</td>\n",
       "      <td>74.0</td>\n",
       "      <td>13830</td>\n",
       "      <td>Pave</td>\n",
       "      <td>NaN</td>\n",
       "      <td>IR1</td>\n",
       "      <td>Lvl</td>\n",
       "      <td>AllPub</td>\n",
       "      <td>...</td>\n",
       "      <td>0</td>\n",
       "      <td>NaN</td>\n",
       "      <td>MnPrv</td>\n",
       "      <td>NaN</td>\n",
       "      <td>0</td>\n",
       "      <td>3</td>\n",
       "      <td>2010</td>\n",
       "      <td>WD</td>\n",
       "      <td>Normal</td>\n",
       "      <td>189900</td>\n",
       "    </tr>\n",
       "  </tbody>\n",
       "</table>\n",
       "<p>5 rows × 81 columns</p>\n",
       "</div>"
      ],
      "text/plain": [
       "             PID  MS SubClass MS Zoning  Lot Frontage  Lot Area Street Alley  \\\n",
       "Order                                                                          \n",
       "1      526301100           20        RL         141.0     31770   Pave   NaN   \n",
       "2      526350040           20        RH          80.0     11622   Pave   NaN   \n",
       "3      526351010           20        RL          81.0     14267   Pave   NaN   \n",
       "4      526353030           20        RL          93.0     11160   Pave   NaN   \n",
       "5      527105010           60        RL          74.0     13830   Pave   NaN   \n",
       "\n",
       "      Lot Shape Land Contour Utilities    ...     Pool Area Pool QC  Fence  \\\n",
       "Order                                     ...                                \n",
       "1           IR1          Lvl    AllPub    ...             0     NaN    NaN   \n",
       "2           Reg          Lvl    AllPub    ...             0     NaN  MnPrv   \n",
       "3           IR1          Lvl    AllPub    ...             0     NaN    NaN   \n",
       "4           Reg          Lvl    AllPub    ...             0     NaN    NaN   \n",
       "5           IR1          Lvl    AllPub    ...             0     NaN  MnPrv   \n",
       "\n",
       "      Misc Feature Misc Val Mo Sold Yr Sold  Sale Type  Sale Condition  \\\n",
       "Order                                                                    \n",
       "1              NaN        0       5    2010        WD           Normal   \n",
       "2              NaN        0       6    2010        WD           Normal   \n",
       "3             Gar2    12500       6    2010        WD           Normal   \n",
       "4              NaN        0       4    2010        WD           Normal   \n",
       "5              NaN        0       3    2010        WD           Normal   \n",
       "\n",
       "       SalePrice  \n",
       "Order             \n",
       "1         215000  \n",
       "2         105000  \n",
       "3         172000  \n",
       "4         244000  \n",
       "5         189900  \n",
       "\n",
       "[5 rows x 81 columns]"
      ]
     },
     "execution_count": 3,
     "metadata": {},
     "output_type": "execute_result"
    }
   ],
   "source": [
    "data = helper.load_data('ameshousing.txt', 'Order')\n",
    "data.head()"
   ]
  },
  {
   "cell_type": "code",
   "execution_count": null,
   "metadata": {
    "scrolled": true
   },
   "outputs": [],
   "source": [
    "# This section studies each data feature independently. Characteristics of \n",
    "# the data to be examined include class counts for categorical variables, \n",
    "# descriptive statistics on continuous variables, data shape, data types, and the number\n",
    "# of missing or null values.\n",
    "\n",
    "data_shape = data.shape\n",
    "print('The data shape is {}'.format(data_shape))\n",
    "\n",
    "data_types = data.info()\n",
    "print(data_types)"
   ]
  },
  {
   "cell_type": "code",
   "execution_count": 6,
   "metadata": {},
   "outputs": [
    {
     "name": "stdout",
     "output_type": "stream",
     "text": [
      "Index(['MS Zoning', 'Street', 'Alley', 'Lot Shape', 'Land Contour',\n",
      "       'Utilities', 'Lot Config', 'Land Slope', 'Neighborhood', 'Condition 1',\n",
      "       'Condition 2', 'Bldg Type', 'House Style', 'Roof Style', 'Roof Matl',\n",
      "       'Exterior 1st', 'Exterior 2nd', 'Mas Vnr Type', 'Exter Qual',\n",
      "       'Exter Cond', 'Foundation', 'Bsmt Qual', 'Bsmt Cond', 'Bsmt Exposure',\n",
      "       'BsmtFin Type 1', 'BsmtFin Type 2', 'Heating', 'Heating QC',\n",
      "       'Central Air', 'Electrical', 'Kitchen Qual', 'Functional',\n",
      "       'Fireplace Qu', 'Garage Type', 'Garage Finish', 'Garage Qual',\n",
      "       'Garage Cond', 'Paved Drive', 'Pool QC', 'Fence', 'Misc Feature',\n",
      "       'Sale Type', 'Sale Condition', 'PID', 'MS SubClass', 'Overall Qual',\n",
      "       'Overall Cond'],\n",
      "      dtype='object')\n",
      "\n",
      "There are 47 categorical variables\n"
     ]
    }
   ],
   "source": [
    "# Create a list of the categorical variables in the data\n",
    "# Note that features involving year is not considered categorical for this analysis,\n",
    "# since the difference between the years of two records may affect the target variable\n",
    "\n",
    "catg_vars = helper.get_catg_vars(data, 'PID', 'MS SubClass', 'Overall Qual', 'Overall Cond')\n",
    "print(catg_vars.columns)\n",
    "print('\\nThere are {} categorical variables'.format(len(catg_vars.columns)))"
   ]
  },
  {
   "cell_type": "code",
   "execution_count": null,
   "metadata": {
    "scrolled": true
   },
   "outputs": [],
   "source": [
    "def conv_to_catg_type(data, catg_vars):\n",
    "    '''\n",
    "        Convert the categorical values to data type category.\n",
    "    '''\n",
    "    data[catg_vars] = data[catg_vars].apply(lambda x: x.astype('category'))\n",
    "    \n",
    "    return data\n",
    "\n",
    "data = conv_to_catg_type(data, catg_vars)\n",
    "data.info()"
   ]
  },
  {
   "cell_type": "code",
   "execution_count": null,
   "metadata": {},
   "outputs": [],
   "source": [
    "## Next, let's deal with the null values in the dataset\n",
    "def get_null_vars(data):\n",
    "    '''\n",
    "        Returns the column names in a dataframe of the columns with null values.\n",
    "        The output is separated by categorical and quantitative variables.\n",
    "    '''\n",
    "    catg_null_vars = []\n",
    "    quant_null_vars = []\n",
    "    vars_w_na_data = data.columns[data.isnull().any()].tolist()\n",
    "    for var in vars_w_na_data:\n",
    "        if ((data[var].dtype.name == 'category') or (data[var].dtype.name == 'object')):\n",
    "            catg_null_vars += [var]\n",
    "        else:\n",
    "            quant_null_vars += [var]\n",
    "    \n",
    "    return catg_null_vars, quant_null_vars"
   ]
  },
  {
   "cell_type": "code",
   "execution_count": null,
   "metadata": {},
   "outputs": [],
   "source": [
    "catg_null_vars, quant_null_vars = get_null_vars(data)\n",
    "print(catg_null_vars)\n",
    "print(quant_null_vars)"
   ]
  },
  {
   "cell_type": "code",
   "execution_count": null,
   "metadata": {},
   "outputs": [],
   "source": [
    "def get_null_ix(data, col_names):\n",
    "    '''\n",
    "        Given a list of column names, return the indices of the rows where the null values\n",
    "        of those columns are located.\n",
    "    '''\n",
    "    \n",
    "    ix_dict = {col: data[data[col].isnull()].index for col in col_names}\n",
    "    \n",
    "    return ix_dict\n",
    "    "
   ]
  },
  {
   "cell_type": "code",
   "execution_count": null,
   "metadata": {},
   "outputs": [],
   "source": [
    "pd.set_option('display.max_columns', None)\n",
    "pd.set_option('precision', 2)"
   ]
  },
  {
   "cell_type": "code",
   "execution_count": null,
   "metadata": {},
   "outputs": [],
   "source": [
    "# Investigate the numeric variables\n",
    "data_num = get_num_vars(data)"
   ]
  },
  {
   "cell_type": "code",
   "execution_count": null,
   "metadata": {
    "scrolled": false
   },
   "outputs": [],
   "source": [
    "# Start with univariate analysis\n",
    "print(data_num.columns.values)\n",
    "print('\\n')\n",
    "print(data_num.describe())"
   ]
  },
  {
   "cell_type": "code",
   "execution_count": null,
   "metadata": {
    "scrolled": true
   },
   "outputs": [],
   "source": [
    "# Check the data skews\n",
    "skews = data_num.skew()\n",
    "print(skews.sort_values(ascending=False))"
   ]
  },
  {
   "cell_type": "code",
   "execution_count": null,
   "metadata": {
    "scrolled": true
   },
   "outputs": [],
   "source": [
    "# Plot histograms of the numeric variables\n",
    "data_num.hist(figsize=(10, 20), layout=(-1, 4))\n",
    "plt.tight_layout()\n",
    "plt.show()\n"
   ]
  },
  {
   "cell_type": "code",
   "execution_count": null,
   "metadata": {},
   "outputs": [],
   "source": [
    "# The skew calculations and the histograms show \n",
    "# that some variable have high skew\n",
    "# Examine a boxplot for Lot Area, which is right-skewed\n",
    "fig, ax = plt.subplots()\n",
    "ax.boxplot(data_num['Lot Area'])\n",
    "ax.set_xlabel('Lot Area Sq Ft.')\n",
    "plt.show()"
   ]
  },
  {
   "cell_type": "code",
   "execution_count": null,
   "metadata": {},
   "outputs": [],
   "source": [
    "# Apply a log transform to the lot area variable\n",
    "data_num['Log Lot Area'] = np.log10(data_num['Lot Area'] + 1)"
   ]
  },
  {
   "cell_type": "code",
   "execution_count": null,
   "metadata": {},
   "outputs": [],
   "source": [
    "# Plot the histogram of the log transform\n",
    "fig, ax = plt.subplots()\n",
    "ax.hist(data_num['Log Lot Area'])\n",
    "ax.set_xlabel('Log10 of Lot Area')\n",
    "plt.show()"
   ]
  },
  {
   "cell_type": "code",
   "execution_count": null,
   "metadata": {},
   "outputs": [],
   "source": []
  },
  {
   "cell_type": "code",
   "execution_count": null,
   "metadata": {},
   "outputs": [],
   "source": []
  },
  {
   "cell_type": "code",
   "execution_count": null,
   "metadata": {},
   "outputs": [],
   "source": []
  },
  {
   "cell_type": "code",
   "execution_count": null,
   "metadata": {
    "scrolled": false
   },
   "outputs": [],
   "source": [
    "# The histograms review that some features such as Bsmt Unf SF follow an exponential distribution\n",
    "# Apply a box-cox transform to such features so that their distribution can be more Gaussian\n",
    "from scipy.stats import boxcox\n",
    "open_porch_boxcox, lda = boxcox(data_num['Open Porch SF'].values + 1)"
   ]
  },
  {
   "cell_type": "code",
   "execution_count": null,
   "metadata": {},
   "outputs": [],
   "source": [
    "plt.hist(open_porch_boxcox)\n",
    "plt.show()"
   ]
  },
  {
   "cell_type": "code",
   "execution_count": null,
   "metadata": {},
   "outputs": [],
   "source": [
    "bsmt_unf_log = np.log(data_num['Bsmt Unf SF'] + 1)"
   ]
  },
  {
   "cell_type": "code",
   "execution_count": null,
   "metadata": {},
   "outputs": [],
   "source": [
    "bsmt_unf = data_num['Bsmt Unf SF'].dropna()"
   ]
  },
  {
   "cell_type": "code",
   "execution_count": null,
   "metadata": {},
   "outputs": [],
   "source": [
    "bsmt_unf_boxcox, lda = boxcox(bsmt_unf + 1)"
   ]
  },
  {
   "cell_type": "code",
   "execution_count": null,
   "metadata": {},
   "outputs": [],
   "source": [
    "print(bsmt_unf_boxcox)\n",
    "print(lda)"
   ]
  },
  {
   "cell_type": "code",
   "execution_count": null,
   "metadata": {},
   "outputs": [],
   "source": [
    "plt.hist(bsmt_unf_boxcox)\n",
    "plt.show"
   ]
  },
  {
   "cell_type": "code",
   "execution_count": null,
   "metadata": {
    "scrolled": true
   },
   "outputs": [],
   "source": [
    "# Check the correlations between the numeric variables\n",
    "# corr = data_num.corr()\n",
    "fig = plt.figure(figsize=(20, 20))\n",
    "ax = fig.add_subplot(111)\n",
    "cax = ax.matshow(corr, vmin=-1, vmax=1)\n",
    "fig.colorbar(cax)\n",
    "names = data_num.columns.values\n",
    "ticks = np.arange(0, len(names), 1)\n",
    "ax.set_xticks(ticks)\n",
    "ax.set_yticks(ticks)\n",
    "_ = ax.set_xticklabels(names)\n",
    "_ = ax.set_yticklabels(names)\n",
    "_ = plt.xticks(rotation=-90)"
   ]
  },
  {
   "cell_type": "code",
   "execution_count": null,
   "metadata": {},
   "outputs": [],
   "source": []
  },
  {
   "cell_type": "code",
   "execution_count": null,
   "metadata": {
    "scrolled": true
   },
   "outputs": [],
   "source": [
    "null_ix = get_null_ix(data, catg_null_vars)"
   ]
  },
  {
   "cell_type": "code",
   "execution_count": null,
   "metadata": {},
   "outputs": [],
   "source": [
    "pd.set_option('display.max_columns', None)"
   ]
  },
  {
   "cell_type": "code",
   "execution_count": null,
   "metadata": {},
   "outputs": [],
   "source": [
    "data.loc[null_ix['Electrical']]"
   ]
  },
  {
   "cell_type": "code",
   "execution_count": null,
   "metadata": {},
   "outputs": [],
   "source": [
    "def fill_nulls(data, **kwargs):\n",
    "    '''\n",
    "        Given a set of keyword arguments, fill in the null values of a dataframe column, where the\n",
    "        key is the column name and the value is the fill value.\n",
    "    '''\n",
    "    \n",
    "    for col, value in kwargs.items():\n",
    "        try:\n",
    "            data[col].cat.add_categories([value], inplace=True)\n",
    "        except:\n",
    "            pass\n",
    "        data[col].fillna(value=value, inplace=True)\n",
    "        "
   ]
  },
  {
   "cell_type": "code",
   "execution_count": null,
   "metadata": {},
   "outputs": [],
   "source": [
    "fill_dict = {'Alley': 'No Alley Access', 'Mas Vnr Type': 'None', 'Bsmt Qual': 'No Basement', \n",
    "             'Bsmt Cond': 'No Basement', 'BsmtFin Type 1': 'No Basement', 'BsmtFinType 2': 'No Basement', \n",
    "             'Eletrical': ''}\n",
    "fill_nulls(data, **fill_dict)"
   ]
  },
  {
   "cell_type": "code",
   "execution_count": null,
   "metadata": {
    "scrolled": true
   },
   "outputs": [],
   "source": [
    "# From the codebook, a Null value for alley means no alley access so we can fill that in as a separate class\n",
    "try:\n",
    "    data['Alley'].cat.add_categories(['No Alley Access'], inplace=True)\n",
    "except:\n",
    "    pass\n",
    "data['Alley'].fillna(value='No Alley Access', inplace=True)"
   ]
  },
  {
   "cell_type": "code",
   "execution_count": null,
   "metadata": {},
   "outputs": [],
   "source": [
    "# From the codebook, a Null value for Mas Vnr Type should be None\n",
    "data['Mas Vnr Type'].fillna(value='None', inplace=True)"
   ]
  },
  {
   "cell_type": "code",
   "execution_count": null,
   "metadata": {
    "scrolled": true
   },
   "outputs": [],
   "source": [
    "# From the codebook, a Null value for Bsmt Qual indicates No Basement\n",
    "try:\n",
    "    data['Bsmt Qual'].cat.add_categories(['No Basement'], inplace=True)\n",
    "except:\n",
    "    pass\n",
    "data['Bsmt Qual'].fillna(value='No Basement', inplace=True)\n"
   ]
  },
  {
   "cell_type": "code",
   "execution_count": null,
   "metadata": {},
   "outputs": [],
   "source": [
    "# Make the basement qual variable an ordinal variable\n",
    "catg_order = ['No Basement', 'Po', 'Fa', 'TA', 'Gd', 'Ex']\n",
    "data['Bsmt Qual'] = pd.Categorical(data['Bsmt Qual'], ordered=True, categories=catg_order)"
   ]
  },
  {
   "cell_type": "code",
   "execution_count": null,
   "metadata": {},
   "outputs": [],
   "source": [
    "# From the codebook, a Null value for Bsmt Cond indicates No Basement\n",
    "try:\n",
    "    data['Bsmt Cond'].cat.add_categories(['No Basement'], inplace=True)\n",
    "except:\n",
    "    pass\n",
    "data['Bsmt Cond'].fillna(value='No Basement', inplace=True)\n",
    "\n",
    "# Make the basement cond variable an ordinal variable\n",
    "catg_order = ['No Basement', 'Po', 'Fa', 'TA', 'Gd', 'Ex']\n",
    "data['Bsmt Cond'] = pd.Categorical(data['Bsmt Cond'], ordered=True, categories=catg_order)\n",
    "\n",
    "## Note: There are equal number of null values for Bsmt Qual as for Bsmt Cond, which makes sense"
   ]
  },
  {
   "cell_type": "code",
   "execution_count": null,
   "metadata": {},
   "outputs": [],
   "source": []
  },
  {
   "cell_type": "code",
   "execution_count": null,
   "metadata": {},
   "outputs": [],
   "source": [
    "# Define a helper function to show the distribution of records across all labels for a\n",
    "# given set of categorical variables\n",
    "def show_label_distr(df, catg_vars):\n",
    "    for var in catg_vars:\n",
    "        # Replace null values with a label\n",
    "        if any(pd.isnull(data[var])):\n",
    "            df[var].fillna('None', inplace=True)\n",
    "        print(df.groupby(var).size().sort_values(ascending=False), '\\n')"
   ]
  },
  {
   "cell_type": "code",
   "execution_count": null,
   "metadata": {},
   "outputs": [],
   "source": []
  },
  {
   "cell_type": "code",
   "execution_count": null,
   "metadata": {},
   "outputs": [],
   "source": []
  },
  {
   "cell_type": "code",
   "execution_count": null,
   "metadata": {
    "scrolled": false
   },
   "outputs": [],
   "source": [
    "show_label_distr(data, vars_w_na_data)"
   ]
  },
  {
   "cell_type": "code",
   "execution_count": null,
   "metadata": {},
   "outputs": [],
   "source": [
    "# Get the class counts for categorical variables\n",
    "ms_subclass = data.groupby('MS SubClass').size().sort_values(ascending=False)\n",
    "print(ms_subclass)"
   ]
  },
  {
   "cell_type": "code",
   "execution_count": null,
   "metadata": {},
   "outputs": [],
   "source": [
    "ms_zoning = data.groupby('MS Zoning').size().sort_values(ascending=False)\n",
    "print(ms_zoning)"
   ]
  },
  {
   "cell_type": "code",
   "execution_count": null,
   "metadata": {},
   "outputs": [],
   "source": [
    "street = data.groupby('Street').size().sort_values(ascending=False)\n",
    "print(street)"
   ]
  },
  {
   "cell_type": "code",
   "execution_count": null,
   "metadata": {},
   "outputs": [],
   "source": [
    "alley = data.groupby('Alley').size()\n",
    "print(alley)\n",
    "print('There are {} null values in Alley'.format(len(data) - alley.sum()))"
   ]
  },
  {
   "cell_type": "code",
   "execution_count": null,
   "metadata": {},
   "outputs": [],
   "source": [
    "# Fill in alley null values with another meaningful label\n",
    "data['Alley'].fillna('No Alley Access'.astype('category'), inplace=True)\n",
    "alley = data.groupby('Alley').size()\n",
    "print(alley)"
   ]
  },
  {
   "cell_type": "code",
   "execution_count": null,
   "metadata": {},
   "outputs": [],
   "source": [
    "data.columns"
   ]
  },
  {
   "cell_type": "code",
   "execution_count": null,
   "metadata": {},
   "outputs": [],
   "source": []
  }
 ],
 "metadata": {
  "kernelspec": {
   "display_name": "Python [conda env:ml]",
   "language": "python",
   "name": "conda-env-ml-py"
  },
  "language_info": {
   "codemirror_mode": {
    "name": "ipython",
    "version": 3
   },
   "file_extension": ".py",
   "mimetype": "text/x-python",
   "name": "python",
   "nbconvert_exporter": "python",
   "pygments_lexer": "ipython3",
   "version": "3.6.6"
  }
 },
 "nbformat": 4,
 "nbformat_minor": 2
}
