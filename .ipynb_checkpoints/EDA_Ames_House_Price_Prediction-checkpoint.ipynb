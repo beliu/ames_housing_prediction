{
 "cells": [
  {
   "cell_type": "code",
   "execution_count": 1,
   "metadata": {},
   "outputs": [],
   "source": [
    "import pandas as pd\n",
    "import numpy as np\n",
    "import matplotlib.pyplot as plt\n",
    "import helper\n",
    "from importlib import reload\n",
    "%config InlineBackend.figure_format='retina'"
   ]
  },
  {
   "cell_type": "code",
   "execution_count": 19,
   "metadata": {},
   "outputs": [
    {
     "data": {
      "text/plain": [
       "<module 'helper' from '/Users/beili/Dropbox/Competitions/Kaggle/New_House_Prices/helper.py'>"
      ]
     },
     "execution_count": 19,
     "metadata": {},
     "output_type": "execute_result"
    }
   ],
   "source": [
    "reload(helper)"
   ]
  },
  {
   "cell_type": "code",
   "execution_count": 2,
   "metadata": {},
   "outputs": [
    {
     "data": {
      "text/html": [
       "<div>\n",
       "<style scoped>\n",
       "    .dataframe tbody tr th:only-of-type {\n",
       "        vertical-align: middle;\n",
       "    }\n",
       "\n",
       "    .dataframe tbody tr th {\n",
       "        vertical-align: top;\n",
       "    }\n",
       "\n",
       "    .dataframe thead th {\n",
       "        text-align: right;\n",
       "    }\n",
       "</style>\n",
       "<table border=\"1\" class=\"dataframe\">\n",
       "  <thead>\n",
       "    <tr style=\"text-align: right;\">\n",
       "      <th></th>\n",
       "      <th>PID</th>\n",
       "      <th>MS SubClass</th>\n",
       "      <th>MS Zoning</th>\n",
       "      <th>Lot Frontage</th>\n",
       "      <th>Lot Area</th>\n",
       "      <th>Street</th>\n",
       "      <th>Alley</th>\n",
       "      <th>Lot Shape</th>\n",
       "      <th>Land Contour</th>\n",
       "      <th>Utilities</th>\n",
       "      <th>...</th>\n",
       "      <th>Pool Area</th>\n",
       "      <th>Pool QC</th>\n",
       "      <th>Fence</th>\n",
       "      <th>Misc Feature</th>\n",
       "      <th>Misc Val</th>\n",
       "      <th>Mo Sold</th>\n",
       "      <th>Yr Sold</th>\n",
       "      <th>Sale Type</th>\n",
       "      <th>Sale Condition</th>\n",
       "      <th>SalePrice</th>\n",
       "    </tr>\n",
       "    <tr>\n",
       "      <th>Order</th>\n",
       "      <th></th>\n",
       "      <th></th>\n",
       "      <th></th>\n",
       "      <th></th>\n",
       "      <th></th>\n",
       "      <th></th>\n",
       "      <th></th>\n",
       "      <th></th>\n",
       "      <th></th>\n",
       "      <th></th>\n",
       "      <th></th>\n",
       "      <th></th>\n",
       "      <th></th>\n",
       "      <th></th>\n",
       "      <th></th>\n",
       "      <th></th>\n",
       "      <th></th>\n",
       "      <th></th>\n",
       "      <th></th>\n",
       "      <th></th>\n",
       "      <th></th>\n",
       "    </tr>\n",
       "  </thead>\n",
       "  <tbody>\n",
       "    <tr>\n",
       "      <th>1</th>\n",
       "      <td>526301100</td>\n",
       "      <td>20</td>\n",
       "      <td>RL</td>\n",
       "      <td>141.0</td>\n",
       "      <td>31770</td>\n",
       "      <td>Pave</td>\n",
       "      <td>NaN</td>\n",
       "      <td>IR1</td>\n",
       "      <td>Lvl</td>\n",
       "      <td>AllPub</td>\n",
       "      <td>...</td>\n",
       "      <td>0</td>\n",
       "      <td>NaN</td>\n",
       "      <td>NaN</td>\n",
       "      <td>NaN</td>\n",
       "      <td>0</td>\n",
       "      <td>5</td>\n",
       "      <td>2010</td>\n",
       "      <td>WD</td>\n",
       "      <td>Normal</td>\n",
       "      <td>215000</td>\n",
       "    </tr>\n",
       "    <tr>\n",
       "      <th>2</th>\n",
       "      <td>526350040</td>\n",
       "      <td>20</td>\n",
       "      <td>RH</td>\n",
       "      <td>80.0</td>\n",
       "      <td>11622</td>\n",
       "      <td>Pave</td>\n",
       "      <td>NaN</td>\n",
       "      <td>Reg</td>\n",
       "      <td>Lvl</td>\n",
       "      <td>AllPub</td>\n",
       "      <td>...</td>\n",
       "      <td>0</td>\n",
       "      <td>NaN</td>\n",
       "      <td>MnPrv</td>\n",
       "      <td>NaN</td>\n",
       "      <td>0</td>\n",
       "      <td>6</td>\n",
       "      <td>2010</td>\n",
       "      <td>WD</td>\n",
       "      <td>Normal</td>\n",
       "      <td>105000</td>\n",
       "    </tr>\n",
       "    <tr>\n",
       "      <th>3</th>\n",
       "      <td>526351010</td>\n",
       "      <td>20</td>\n",
       "      <td>RL</td>\n",
       "      <td>81.0</td>\n",
       "      <td>14267</td>\n",
       "      <td>Pave</td>\n",
       "      <td>NaN</td>\n",
       "      <td>IR1</td>\n",
       "      <td>Lvl</td>\n",
       "      <td>AllPub</td>\n",
       "      <td>...</td>\n",
       "      <td>0</td>\n",
       "      <td>NaN</td>\n",
       "      <td>NaN</td>\n",
       "      <td>Gar2</td>\n",
       "      <td>12500</td>\n",
       "      <td>6</td>\n",
       "      <td>2010</td>\n",
       "      <td>WD</td>\n",
       "      <td>Normal</td>\n",
       "      <td>172000</td>\n",
       "    </tr>\n",
       "    <tr>\n",
       "      <th>4</th>\n",
       "      <td>526353030</td>\n",
       "      <td>20</td>\n",
       "      <td>RL</td>\n",
       "      <td>93.0</td>\n",
       "      <td>11160</td>\n",
       "      <td>Pave</td>\n",
       "      <td>NaN</td>\n",
       "      <td>Reg</td>\n",
       "      <td>Lvl</td>\n",
       "      <td>AllPub</td>\n",
       "      <td>...</td>\n",
       "      <td>0</td>\n",
       "      <td>NaN</td>\n",
       "      <td>NaN</td>\n",
       "      <td>NaN</td>\n",
       "      <td>0</td>\n",
       "      <td>4</td>\n",
       "      <td>2010</td>\n",
       "      <td>WD</td>\n",
       "      <td>Normal</td>\n",
       "      <td>244000</td>\n",
       "    </tr>\n",
       "    <tr>\n",
       "      <th>5</th>\n",
       "      <td>527105010</td>\n",
       "      <td>60</td>\n",
       "      <td>RL</td>\n",
       "      <td>74.0</td>\n",
       "      <td>13830</td>\n",
       "      <td>Pave</td>\n",
       "      <td>NaN</td>\n",
       "      <td>IR1</td>\n",
       "      <td>Lvl</td>\n",
       "      <td>AllPub</td>\n",
       "      <td>...</td>\n",
       "      <td>0</td>\n",
       "      <td>NaN</td>\n",
       "      <td>MnPrv</td>\n",
       "      <td>NaN</td>\n",
       "      <td>0</td>\n",
       "      <td>3</td>\n",
       "      <td>2010</td>\n",
       "      <td>WD</td>\n",
       "      <td>Normal</td>\n",
       "      <td>189900</td>\n",
       "    </tr>\n",
       "  </tbody>\n",
       "</table>\n",
       "<p>5 rows × 81 columns</p>\n",
       "</div>"
      ],
      "text/plain": [
       "             PID  MS SubClass MS Zoning  Lot Frontage  Lot Area Street Alley  \\\n",
       "Order                                                                          \n",
       "1      526301100           20        RL         141.0     31770   Pave   NaN   \n",
       "2      526350040           20        RH          80.0     11622   Pave   NaN   \n",
       "3      526351010           20        RL          81.0     14267   Pave   NaN   \n",
       "4      526353030           20        RL          93.0     11160   Pave   NaN   \n",
       "5      527105010           60        RL          74.0     13830   Pave   NaN   \n",
       "\n",
       "      Lot Shape Land Contour Utilities    ...     Pool Area Pool QC  Fence  \\\n",
       "Order                                     ...                                \n",
       "1           IR1          Lvl    AllPub    ...             0     NaN    NaN   \n",
       "2           Reg          Lvl    AllPub    ...             0     NaN  MnPrv   \n",
       "3           IR1          Lvl    AllPub    ...             0     NaN    NaN   \n",
       "4           Reg          Lvl    AllPub    ...             0     NaN    NaN   \n",
       "5           IR1          Lvl    AllPub    ...             0     NaN  MnPrv   \n",
       "\n",
       "      Misc Feature Misc Val Mo Sold Yr Sold  Sale Type  Sale Condition  \\\n",
       "Order                                                                    \n",
       "1              NaN        0       5    2010        WD           Normal   \n",
       "2              NaN        0       6    2010        WD           Normal   \n",
       "3             Gar2    12500       6    2010        WD           Normal   \n",
       "4              NaN        0       4    2010        WD           Normal   \n",
       "5              NaN        0       3    2010        WD           Normal   \n",
       "\n",
       "       SalePrice  \n",
       "Order             \n",
       "1         215000  \n",
       "2         105000  \n",
       "3         172000  \n",
       "4         244000  \n",
       "5         189900  \n",
       "\n",
       "[5 rows x 81 columns]"
      ]
     },
     "execution_count": 2,
     "metadata": {},
     "output_type": "execute_result"
    }
   ],
   "source": [
    "data = helper.load_data('ameshousing.txt', 'Order')\n",
    "data.head()"
   ]
  },
  {
   "cell_type": "code",
   "execution_count": 16,
   "metadata": {
    "scrolled": true
   },
   "outputs": [
    {
     "name": "stdout",
     "output_type": "stream",
     "text": [
      "The data shape is (2930, 81)\n",
      "<class 'pandas.core.frame.DataFrame'>\n",
      "Int64Index: 2930 entries, 1 to 2930\n",
      "Data columns (total 81 columns):\n",
      "PID                2930 non-null int64\n",
      "MS SubClass        2930 non-null int64\n",
      "MS Zoning          2930 non-null object\n",
      "Lot Frontage       2440 non-null float64\n",
      "Lot Area           2930 non-null int64\n",
      "Street             2930 non-null object\n",
      "Alley              198 non-null object\n",
      "Lot Shape          2930 non-null object\n",
      "Land Contour       2930 non-null object\n",
      "Utilities          2930 non-null object\n",
      "Lot Config         2930 non-null object\n",
      "Land Slope         2930 non-null object\n",
      "Neighborhood       2930 non-null object\n",
      "Condition 1        2930 non-null object\n",
      "Condition 2        2930 non-null object\n",
      "Bldg Type          2930 non-null object\n",
      "House Style        2930 non-null object\n",
      "Overall Qual       2930 non-null int64\n",
      "Overall Cond       2930 non-null int64\n",
      "Year Built         2930 non-null int64\n",
      "Year Remod/Add     2930 non-null int64\n",
      "Roof Style         2930 non-null object\n",
      "Roof Matl          2930 non-null object\n",
      "Exterior 1st       2930 non-null object\n",
      "Exterior 2nd       2930 non-null object\n",
      "Mas Vnr Type       2907 non-null object\n",
      "Mas Vnr Area       2907 non-null float64\n",
      "Exter Qual         2930 non-null object\n",
      "Exter Cond         2930 non-null object\n",
      "Foundation         2930 non-null object\n",
      "Bsmt Qual          2850 non-null object\n",
      "Bsmt Cond          2850 non-null object\n",
      "Bsmt Exposure      2847 non-null object\n",
      "BsmtFin Type 1     2850 non-null object\n",
      "BsmtFin SF 1       2929 non-null float64\n",
      "BsmtFin Type 2     2849 non-null object\n",
      "BsmtFin SF 2       2929 non-null float64\n",
      "Bsmt Unf SF        2929 non-null float64\n",
      "Total Bsmt SF      2929 non-null float64\n",
      "Heating            2930 non-null object\n",
      "Heating QC         2930 non-null object\n",
      "Central Air        2930 non-null object\n",
      "Electrical         2929 non-null object\n",
      "1st Flr SF         2930 non-null int64\n",
      "2nd Flr SF         2930 non-null int64\n",
      "Low Qual Fin SF    2930 non-null int64\n",
      "Gr Liv Area        2930 non-null int64\n",
      "Bsmt Full Bath     2928 non-null float64\n",
      "Bsmt Half Bath     2928 non-null float64\n",
      "Full Bath          2930 non-null int64\n",
      "Half Bath          2930 non-null int64\n",
      "Bedroom AbvGr      2930 non-null int64\n",
      "Kitchen AbvGr      2930 non-null int64\n",
      "Kitchen Qual       2930 non-null object\n",
      "TotRms AbvGrd      2930 non-null int64\n",
      "Functional         2930 non-null object\n",
      "Fireplaces         2930 non-null int64\n",
      "Fireplace Qu       1508 non-null object\n",
      "Garage Type        2773 non-null object\n",
      "Garage Yr Blt      2771 non-null float64\n",
      "Garage Finish      2771 non-null object\n",
      "Garage Cars        2929 non-null float64\n",
      "Garage Area        2929 non-null float64\n",
      "Garage Qual        2771 non-null object\n",
      "Garage Cond        2771 non-null object\n",
      "Paved Drive        2930 non-null object\n",
      "Wood Deck SF       2930 non-null int64\n",
      "Open Porch SF      2930 non-null int64\n",
      "Enclosed Porch     2930 non-null int64\n",
      "3Ssn Porch         2930 non-null int64\n",
      "Screen Porch       2930 non-null int64\n",
      "Pool Area          2930 non-null int64\n",
      "Pool QC            13 non-null object\n",
      "Fence              572 non-null object\n",
      "Misc Feature       106 non-null object\n",
      "Misc Val           2930 non-null int64\n",
      "Mo Sold            2930 non-null int64\n",
      "Yr Sold            2930 non-null int64\n",
      "Sale Type          2930 non-null object\n",
      "Sale Condition     2930 non-null object\n",
      "SalePrice          2930 non-null int64\n",
      "dtypes: float64(11), int64(27), object(43)\n",
      "memory usage: 1.8+ MB\n",
      "None\n"
     ]
    }
   ],
   "source": [
    "# This section studies each data feature independently. Characteristics of \n",
    "# the data to be examined include class counts for categorical variables, \n",
    "# descriptive statistics on continuous variables, data shape, data types, and the number\n",
    "# of missing or null values.\n",
    "\n",
    "data_shape = data.shape\n",
    "print('The data shape is {}'.format(data_shape))\n",
    "\n",
    "data_types = data.info()\n",
    "print(data_types)"
   ]
  },
  {
   "cell_type": "code",
   "execution_count": 18,
   "metadata": {},
   "outputs": [
    {
     "name": "stdout",
     "output_type": "stream",
     "text": [
      "Index(['Lot Frontage', 'Lot Area', 'Year Built', 'Year Remod/Add',\n",
      "       'Mas Vnr Area', 'BsmtFin SF 1', 'BsmtFin SF 2', 'Bsmt Unf SF',\n",
      "       'Total Bsmt SF', '1st Flr SF', '2nd Flr SF', 'Low Qual Fin SF',\n",
      "       'Gr Liv Area', 'Bsmt Full Bath', 'Bsmt Half Bath', 'Full Bath',\n",
      "       'Half Bath', 'Bedroom AbvGr', 'Kitchen AbvGr', 'TotRms AbvGrd',\n",
      "       'Fireplaces', 'Garage Yr Blt', 'Garage Cars', 'Garage Area',\n",
      "       'Wood Deck SF', 'Open Porch SF', 'Enclosed Porch', '3Ssn Porch',\n",
      "       'Screen Porch', 'Pool Area', 'Misc Val', 'Mo Sold', 'Yr Sold',\n",
      "       'SalePrice'],\n",
      "      dtype='object')\n",
      "\n",
      "There are 34 numeric variables\n"
     ]
    }
   ],
   "source": [
    "# Create a dataframe of numeric variables\n",
    "# The variables that are explicitly passed into the function denote variables of type int or float\n",
    "# but that should not be considered numeric variables\n",
    "\n",
    "num_vars = helper.get_num_vars(data, 'PID', 'MS SubClass', 'Overall Qual', 'Overall Cond')\n",
    "print(num_vars.columns)\n",
    "print(f'\\nThere are {len(num_vars.columns)} numeric variables')"
   ]
  },
  {
   "cell_type": "code",
   "execution_count": 17,
   "metadata": {},
   "outputs": [
    {
     "name": "stdout",
     "output_type": "stream",
     "text": [
      "Index(['MS Zoning', 'Street', 'Alley', 'Lot Shape', 'Land Contour',\n",
      "       'Utilities', 'Lot Config', 'Land Slope', 'Neighborhood', 'Condition 1',\n",
      "       'Condition 2', 'Bldg Type', 'House Style', 'Roof Style', 'Roof Matl',\n",
      "       'Exterior 1st', 'Exterior 2nd', 'Mas Vnr Type', 'Exter Qual',\n",
      "       'Exter Cond', 'Foundation', 'Bsmt Qual', 'Bsmt Cond', 'Bsmt Exposure',\n",
      "       'BsmtFin Type 1', 'BsmtFin Type 2', 'Heating', 'Heating QC',\n",
      "       'Central Air', 'Electrical', 'Kitchen Qual', 'Functional',\n",
      "       'Fireplace Qu', 'Garage Type', 'Garage Finish', 'Garage Qual',\n",
      "       'Garage Cond', 'Paved Drive', 'Pool QC', 'Fence', 'Misc Feature',\n",
      "       'Sale Type', 'Sale Condition', 'PID', 'MS SubClass', 'Overall Qual',\n",
      "       'Overall Cond'],\n",
      "      dtype='object')\n",
      "\n",
      "There are 47 categorical variables\n"
     ]
    }
   ],
   "source": [
    "# Create a dataframe of categorical variables in the data\n",
    "# The variables that are explicitly passed into the function denote variables of type int or float\n",
    "# but that should still be considered categorical\n",
    "# Note that features involving year is not considered categorical for this analysis,\n",
    "# since the difference between the years of two records may affect the target variable\n",
    "\n",
    "catg_vars = helper.get_catg_vars(data, 'PID', 'MS SubClass', 'Overall Qual', 'Overall Cond')\n",
    "print(catg_vars.columns)\n",
    "print('\\nThere are {} categorical variables'.format(len(catg_vars.columns)))"
   ]
  },
  {
   "cell_type": "code",
   "execution_count": 22,
   "metadata": {
    "scrolled": true
   },
   "outputs": [
    {
     "name": "stdout",
     "output_type": "stream",
     "text": [
      "<class 'pandas.core.frame.DataFrame'>\n",
      "Int64Index: 2930 entries, 1 to 2930\n",
      "Data columns (total 81 columns):\n",
      "PID                2930 non-null category\n",
      "MS SubClass        2930 non-null category\n",
      "MS Zoning          2930 non-null category\n",
      "Lot Frontage       2440 non-null float64\n",
      "Lot Area           2930 non-null int64\n",
      "Street             2930 non-null category\n",
      "Alley              198 non-null category\n",
      "Lot Shape          2930 non-null category\n",
      "Land Contour       2930 non-null category\n",
      "Utilities          2930 non-null category\n",
      "Lot Config         2930 non-null category\n",
      "Land Slope         2930 non-null category\n",
      "Neighborhood       2930 non-null category\n",
      "Condition 1        2930 non-null category\n",
      "Condition 2        2930 non-null category\n",
      "Bldg Type          2930 non-null category\n",
      "House Style        2930 non-null category\n",
      "Overall Qual       2930 non-null category\n",
      "Overall Cond       2930 non-null category\n",
      "Year Built         2930 non-null int64\n",
      "Year Remod/Add     2930 non-null int64\n",
      "Roof Style         2930 non-null category\n",
      "Roof Matl          2930 non-null category\n",
      "Exterior 1st       2930 non-null category\n",
      "Exterior 2nd       2930 non-null category\n",
      "Mas Vnr Type       2907 non-null category\n",
      "Mas Vnr Area       2907 non-null float64\n",
      "Exter Qual         2930 non-null category\n",
      "Exter Cond         2930 non-null category\n",
      "Foundation         2930 non-null category\n",
      "Bsmt Qual          2850 non-null category\n",
      "Bsmt Cond          2850 non-null category\n",
      "Bsmt Exposure      2847 non-null category\n",
      "BsmtFin Type 1     2850 non-null category\n",
      "BsmtFin SF 1       2929 non-null float64\n",
      "BsmtFin Type 2     2849 non-null category\n",
      "BsmtFin SF 2       2929 non-null float64\n",
      "Bsmt Unf SF        2929 non-null float64\n",
      "Total Bsmt SF      2929 non-null float64\n",
      "Heating            2930 non-null category\n",
      "Heating QC         2930 non-null category\n",
      "Central Air        2930 non-null category\n",
      "Electrical         2929 non-null category\n",
      "1st Flr SF         2930 non-null int64\n",
      "2nd Flr SF         2930 non-null int64\n",
      "Low Qual Fin SF    2930 non-null int64\n",
      "Gr Liv Area        2930 non-null int64\n",
      "Bsmt Full Bath     2928 non-null float64\n",
      "Bsmt Half Bath     2928 non-null float64\n",
      "Full Bath          2930 non-null int64\n",
      "Half Bath          2930 non-null int64\n",
      "Bedroom AbvGr      2930 non-null int64\n",
      "Kitchen AbvGr      2930 non-null int64\n",
      "Kitchen Qual       2930 non-null category\n",
      "TotRms AbvGrd      2930 non-null int64\n",
      "Functional         2930 non-null category\n",
      "Fireplaces         2930 non-null int64\n",
      "Fireplace Qu       1508 non-null category\n",
      "Garage Type        2773 non-null category\n",
      "Garage Yr Blt      2771 non-null float64\n",
      "Garage Finish      2771 non-null category\n",
      "Garage Cars        2929 non-null float64\n",
      "Garage Area        2929 non-null float64\n",
      "Garage Qual        2771 non-null category\n",
      "Garage Cond        2771 non-null category\n",
      "Paved Drive        2930 non-null category\n",
      "Wood Deck SF       2930 non-null int64\n",
      "Open Porch SF      2930 non-null int64\n",
      "Enclosed Porch     2930 non-null int64\n",
      "3Ssn Porch         2930 non-null int64\n",
      "Screen Porch       2930 non-null int64\n",
      "Pool Area          2930 non-null int64\n",
      "Pool QC            13 non-null category\n",
      "Fence              572 non-null category\n",
      "Misc Feature       106 non-null category\n",
      "Misc Val           2930 non-null int64\n",
      "Mo Sold            2930 non-null int64\n",
      "Yr Sold            2930 non-null int64\n",
      "Sale Type          2930 non-null category\n",
      "Sale Condition     2930 non-null category\n",
      "SalePrice          2930 non-null int64\n",
      "dtypes: category(47), float64(11), int64(23)\n",
      "memory usage: 1.0 MB\n"
     ]
    }
   ],
   "source": [
    "# Convert categorical variables to data type 'category'\n",
    "\n",
    "data = helper.conv_to_catg_type(data, catg_vars.columns.values)\n",
    "data.info()"
   ]
  },
  {
   "cell_type": "code",
   "execution_count": null,
   "metadata": {},
   "outputs": [],
   "source": []
  },
  {
   "cell_type": "code",
   "execution_count": null,
   "metadata": {},
   "outputs": [],
   "source": []
  },
  {
   "cell_type": "code",
   "execution_count": null,
   "metadata": {},
   "outputs": [],
   "source": []
  },
  {
   "cell_type": "code",
   "execution_count": null,
   "metadata": {},
   "outputs": [],
   "source": [
    "## Next, let's deal with the null values in the dataset\n",
    "\n",
    "def get_null_vars(data):\n",
    "    '''\n",
    "        Returns the column names in a dataframe of the columns with null values.\n",
    "        The output is separated by categorical and quantitative variables.\n",
    "    '''\n",
    "    catg_null_vars = []\n",
    "    quant_null_vars = []\n",
    "    vars_w_na_data = data.columns[data.isnull().any()].tolist()\n",
    "    for var in vars_w_na_data:\n",
    "        if ((data[var].dtype.name == 'category') or (data[var].dtype.name == 'object')):\n",
    "            catg_null_vars += [var]\n",
    "        else:\n",
    "            quant_null_vars += [var]\n",
    "    \n",
    "    return catg_null_vars, quant_null_vars"
   ]
  },
  {
   "cell_type": "code",
   "execution_count": null,
   "metadata": {},
   "outputs": [],
   "source": [
    "catg_null_vars, quant_null_vars = get_null_vars(data)\n",
    "print(catg_null_vars)\n",
    "print(quant_null_vars)"
   ]
  },
  {
   "cell_type": "code",
   "execution_count": null,
   "metadata": {},
   "outputs": [],
   "source": [
    "def get_null_ix(data, col_names):\n",
    "    '''\n",
    "        Given a list of column names, return the indices of the rows where the null values\n",
    "        of those columns are located.\n",
    "    '''\n",
    "    \n",
    "    ix_dict = {col: data[data[col].isnull()].index for col in col_names}\n",
    "    \n",
    "    return ix_dict\n",
    "    "
   ]
  },
  {
   "cell_type": "code",
   "execution_count": 4,
   "metadata": {},
   "outputs": [],
   "source": [
    "pd.set_option('display.max_columns', None)\n",
    "pd.set_option('precision', 2)"
   ]
  },
  {
   "cell_type": "code",
   "execution_count": 5,
   "metadata": {},
   "outputs": [],
   "source": [
    "# Investigate the numeric variables\n",
    "data_num = helper.get_num_vars(data)"
   ]
  },
  {
   "cell_type": "code",
   "execution_count": 6,
   "metadata": {
    "scrolled": true
   },
   "outputs": [
    {
     "name": "stdout",
     "output_type": "stream",
     "text": [
      "['PID' 'MS SubClass' 'Lot Frontage' 'Lot Area' 'Overall Qual'\n",
      " 'Overall Cond' 'Year Built' 'Year Remod/Add' 'Mas Vnr Area'\n",
      " 'BsmtFin SF 1' 'BsmtFin SF 2' 'Bsmt Unf SF' 'Total Bsmt SF' '1st Flr SF'\n",
      " '2nd Flr SF' 'Low Qual Fin SF' 'Gr Liv Area' 'Bsmt Full Bath'\n",
      " 'Bsmt Half Bath' 'Full Bath' 'Half Bath' 'Bedroom AbvGr' 'Kitchen AbvGr'\n",
      " 'TotRms AbvGrd' 'Fireplaces' 'Garage Yr Blt' 'Garage Cars' 'Garage Area'\n",
      " 'Wood Deck SF' 'Open Porch SF' 'Enclosed Porch' '3Ssn Porch'\n",
      " 'Screen Porch' 'Pool Area' 'Misc Val' 'Mo Sold' 'Yr Sold' 'SalePrice']\n",
      "\n",
      "\n",
      "            PID  MS SubClass  Lot Frontage   Lot Area  Overall Qual  \\\n",
      "count  2.93e+03      2930.00       2440.00    2930.00       2930.00   \n",
      "mean   7.14e+08        57.39         69.22   10147.92          6.09   \n",
      "std    1.89e+08        42.64         23.37    7880.02          1.41   \n",
      "min    5.26e+08        20.00         21.00    1300.00          1.00   \n",
      "25%    5.28e+08        20.00         58.00    7440.25          5.00   \n",
      "50%    5.35e+08        50.00         68.00    9436.50          6.00   \n",
      "75%    9.07e+08        70.00         80.00   11555.25          7.00   \n",
      "max    1.01e+09       190.00        313.00  215245.00         10.00   \n",
      "\n",
      "       Overall Cond  Year Built  Year Remod/Add  Mas Vnr Area  BsmtFin SF 1  \\\n",
      "count       2930.00     2930.00         2930.00       2907.00       2929.00   \n",
      "mean           5.56     1971.36         1984.27        101.90        442.63   \n",
      "std            1.11       30.25           20.86        179.11        455.59   \n",
      "min            1.00     1872.00         1950.00          0.00          0.00   \n",
      "25%            5.00     1954.00         1965.00          0.00          0.00   \n",
      "50%            5.00     1973.00         1993.00          0.00        370.00   \n",
      "75%            6.00     2001.00         2004.00        164.00        734.00   \n",
      "max            9.00     2010.00         2010.00       1600.00       5644.00   \n",
      "\n",
      "       BsmtFin SF 2  Bsmt Unf SF  Total Bsmt SF  1st Flr SF  2nd Flr SF  \\\n",
      "count       2929.00      2929.00        2929.00     2930.00     2930.00   \n",
      "mean          49.72       559.26        1051.61     1159.56      335.46   \n",
      "std          169.17       439.49         440.62      391.89      428.40   \n",
      "min            0.00         0.00           0.00      334.00        0.00   \n",
      "25%            0.00       219.00         793.00      876.25        0.00   \n",
      "50%            0.00       466.00         990.00     1084.00        0.00   \n",
      "75%            0.00       802.00        1302.00     1384.00      703.75   \n",
      "max         1526.00      2336.00        6110.00     5095.00     2065.00   \n",
      "\n",
      "       Low Qual Fin SF  Gr Liv Area  Bsmt Full Bath  Bsmt Half Bath  \\\n",
      "count          2930.00      2930.00         2928.00         2928.00   \n",
      "mean              4.68      1499.69            0.43            0.06   \n",
      "std              46.31       505.51            0.52            0.25   \n",
      "min               0.00       334.00            0.00            0.00   \n",
      "25%               0.00      1126.00            0.00            0.00   \n",
      "50%               0.00      1442.00            0.00            0.00   \n",
      "75%               0.00      1742.75            1.00            0.00   \n",
      "max            1064.00      5642.00            3.00            2.00   \n",
      "\n",
      "       Full Bath  Half Bath  Bedroom AbvGr  Kitchen AbvGr  TotRms AbvGrd  \\\n",
      "count    2930.00    2930.00        2930.00        2930.00        2930.00   \n",
      "mean        1.57       0.38           2.85           1.04           6.44   \n",
      "std         0.55       0.50           0.83           0.21           1.57   \n",
      "min         0.00       0.00           0.00           0.00           2.00   \n",
      "25%         1.00       0.00           2.00           1.00           5.00   \n",
      "50%         2.00       0.00           3.00           1.00           6.00   \n",
      "75%         2.00       1.00           3.00           1.00           7.00   \n",
      "max         4.00       2.00           8.00           3.00          15.00   \n",
      "\n",
      "       Fireplaces  Garage Yr Blt  Garage Cars  Garage Area  Wood Deck SF  \\\n",
      "count     2930.00        2771.00      2929.00      2929.00       2930.00   \n",
      "mean         0.60        1978.13         1.77       472.82         93.75   \n",
      "std          0.65          25.53         0.76       215.05        126.36   \n",
      "min          0.00        1895.00         0.00         0.00          0.00   \n",
      "25%          0.00        1960.00         1.00       320.00          0.00   \n",
      "50%          1.00        1979.00         2.00       480.00          0.00   \n",
      "75%          1.00        2002.00         2.00       576.00        168.00   \n",
      "max          4.00        2207.00         5.00      1488.00       1424.00   \n",
      "\n",
      "       Open Porch SF  Enclosed Porch  3Ssn Porch  Screen Porch  Pool Area  \\\n",
      "count        2930.00         2930.00     2930.00       2930.00    2930.00   \n",
      "mean           47.53           23.01        2.59         16.00       2.24   \n",
      "std            67.48           64.14       25.14         56.09      35.60   \n",
      "min             0.00            0.00        0.00          0.00       0.00   \n",
      "25%             0.00            0.00        0.00          0.00       0.00   \n",
      "50%            27.00            0.00        0.00          0.00       0.00   \n",
      "75%            70.00            0.00        0.00          0.00       0.00   \n",
      "max           742.00         1012.00      508.00        576.00     800.00   \n",
      "\n",
      "       Misc Val  Mo Sold  Yr Sold  SalePrice  \n",
      "count   2930.00  2930.00  2930.00    2930.00  \n",
      "mean      50.64     6.22  2007.79  180796.06  \n",
      "std      566.34     2.71     1.32   79886.69  \n",
      "min        0.00     1.00  2006.00   12789.00  \n",
      "25%        0.00     4.00  2007.00  129500.00  \n",
      "50%        0.00     6.00  2008.00  160000.00  \n",
      "75%        0.00     8.00  2009.00  213500.00  \n",
      "max    17000.00    12.00  2010.00  755000.00  \n"
     ]
    }
   ],
   "source": [
    "# Start with univariate analysis\n",
    "print(data_num.columns.values)\n",
    "print('\\n')\n",
    "print(data_num.describe())"
   ]
  },
  {
   "cell_type": "code",
   "execution_count": 7,
   "metadata": {
    "scrolled": true
   },
   "outputs": [
    {
     "name": "stdout",
     "output_type": "stream",
     "text": [
      "Misc Val           22.00\n",
      "Pool Area          16.94\n",
      "Lot Area           12.82\n",
      "Low Qual Fin SF    12.12\n",
      "3Ssn Porch         11.40\n",
      "Kitchen AbvGr       4.31\n",
      "BsmtFin SF 2        4.14\n",
      "Enclosed Porch      4.01\n",
      "Screen Porch        3.96\n",
      "Bsmt Half Bath      3.94\n",
      "Mas Vnr Area        2.61\n",
      "Open Porch SF       2.54\n",
      "Wood Deck SF        1.84\n",
      "SalePrice           1.74\n",
      "Lot Frontage        1.50\n",
      "1st Flr SF          1.47\n",
      "BsmtFin SF 1        1.42\n",
      "MS SubClass         1.36\n",
      "Gr Liv Area         1.27\n",
      "Total Bsmt SF       1.16\n",
      "Bsmt Unf SF         0.92\n",
      "2nd Flr SF          0.87\n",
      "TotRms AbvGrd       0.75\n",
      "Fireplaces          0.74\n",
      "Half Bath           0.70\n",
      "Bsmt Full Bath      0.62\n",
      "Overall Cond        0.57\n",
      "Bedroom AbvGr       0.31\n",
      "Garage Area         0.24\n",
      "Mo Sold             0.19\n",
      "Overall Qual        0.19\n",
      "Full Bath           0.17\n",
      "Yr Sold             0.13\n",
      "PID                 0.06\n",
      "Garage Cars        -0.22\n",
      "Garage Yr Blt      -0.38\n",
      "Year Remod/Add     -0.45\n",
      "Year Built         -0.60\n",
      "dtype: float64\n"
     ]
    }
   ],
   "source": [
    "# Check the data skews\n",
    "skews = data_num.skew()\n",
    "print(skews.sort_values(ascending=False))"
   ]
  },
  {
   "cell_type": "code",
   "execution_count": null,
   "metadata": {
    "scrolled": true
   },
   "outputs": [],
   "source": [
    "# Plot histograms of the numeric variables\n",
    "data_num.hist(figsize=(10, 20), layout=(-1, 4))\n",
    "plt.tight_layout()\n",
    "plt.show()\n"
   ]
  },
  {
   "cell_type": "code",
   "execution_count": null,
   "metadata": {},
   "outputs": [],
   "source": [
    "# The skew calculations and the histograms show \n",
    "# that some variable have high skew\n",
    "# Examine a boxplot for Lot Area, which is right-skewed\n",
    "fig, ax = plt.subplots()\n",
    "ax.boxplot(data_num['Lot Area'])\n",
    "ax.set_xlabel('Lot Area Sq Ft.')\n",
    "plt.show()"
   ]
  },
  {
   "cell_type": "code",
   "execution_count": null,
   "metadata": {},
   "outputs": [],
   "source": [
    "# Apply a log transform to the lot area variable\n",
    "data_num['Log Lot Area'] = np.log10(data_num['Lot Area'] + 1)"
   ]
  },
  {
   "cell_type": "code",
   "execution_count": null,
   "metadata": {},
   "outputs": [],
   "source": [
    "# Plot the histogram of the log transform\n",
    "fig, ax = plt.subplots()\n",
    "ax.hist(data_num['Log Lot Area'])\n",
    "ax.set_xlabel('Log10 of Lot Area')\n",
    "plt.show()"
   ]
  },
  {
   "cell_type": "code",
   "execution_count": null,
   "metadata": {},
   "outputs": [],
   "source": []
  },
  {
   "cell_type": "code",
   "execution_count": null,
   "metadata": {},
   "outputs": [],
   "source": []
  },
  {
   "cell_type": "code",
   "execution_count": null,
   "metadata": {},
   "outputs": [],
   "source": []
  },
  {
   "cell_type": "code",
   "execution_count": null,
   "metadata": {
    "scrolled": false
   },
   "outputs": [],
   "source": [
    "# The histograms review that some features such as Bsmt Unf SF follow an exponential distribution\n",
    "# Apply a box-cox transform to such features so that their distribution can be more Gaussian\n",
    "from scipy.stats import boxcox\n",
    "open_porch_boxcox, lda = boxcox(data_num['Open Porch SF'].values + 1)"
   ]
  },
  {
   "cell_type": "code",
   "execution_count": null,
   "metadata": {},
   "outputs": [],
   "source": [
    "plt.hist(open_porch_boxcox)\n",
    "plt.show()"
   ]
  },
  {
   "cell_type": "code",
   "execution_count": null,
   "metadata": {},
   "outputs": [],
   "source": [
    "bsmt_unf_log = np.log(data_num['Bsmt Unf SF'] + 1)"
   ]
  },
  {
   "cell_type": "code",
   "execution_count": null,
   "metadata": {},
   "outputs": [],
   "source": [
    "bsmt_unf = data_num['Bsmt Unf SF'].dropna()"
   ]
  },
  {
   "cell_type": "code",
   "execution_count": null,
   "metadata": {},
   "outputs": [],
   "source": [
    "bsmt_unf_boxcox, lda = boxcox(bsmt_unf + 1)"
   ]
  },
  {
   "cell_type": "code",
   "execution_count": null,
   "metadata": {},
   "outputs": [],
   "source": [
    "print(bsmt_unf_boxcox)\n",
    "print(lda)"
   ]
  },
  {
   "cell_type": "code",
   "execution_count": null,
   "metadata": {},
   "outputs": [],
   "source": [
    "plt.hist(bsmt_unf_boxcox)\n",
    "plt.show"
   ]
  },
  {
   "cell_type": "code",
   "execution_count": null,
   "metadata": {
    "scrolled": true
   },
   "outputs": [],
   "source": [
    "# Check the correlations between the numeric variables\n",
    "# corr = data_num.corr()\n",
    "fig = plt.figure(figsize=(20, 20))\n",
    "ax = fig.add_subplot(111)\n",
    "cax = ax.matshow(corr, vmin=-1, vmax=1)\n",
    "fig.colorbar(cax)\n",
    "names = data_num.columns.values\n",
    "ticks = np.arange(0, len(names), 1)\n",
    "ax.set_xticks(ticks)\n",
    "ax.set_yticks(ticks)\n",
    "_ = ax.set_xticklabels(names)\n",
    "_ = ax.set_yticklabels(names)\n",
    "_ = plt.xticks(rotation=-90)"
   ]
  },
  {
   "cell_type": "code",
   "execution_count": null,
   "metadata": {},
   "outputs": [],
   "source": []
  },
  {
   "cell_type": "code",
   "execution_count": null,
   "metadata": {
    "scrolled": true
   },
   "outputs": [],
   "source": [
    "null_ix = get_null_ix(data, catg_null_vars)"
   ]
  },
  {
   "cell_type": "code",
   "execution_count": null,
   "metadata": {},
   "outputs": [],
   "source": [
    "pd.set_option('display.max_columns', None)"
   ]
  },
  {
   "cell_type": "code",
   "execution_count": null,
   "metadata": {},
   "outputs": [],
   "source": [
    "data.loc[null_ix['Electrical']]"
   ]
  },
  {
   "cell_type": "code",
   "execution_count": null,
   "metadata": {},
   "outputs": [],
   "source": [
    "def fill_nulls(data, **kwargs):\n",
    "    '''\n",
    "        Given a set of keyword arguments, fill in the null values of a dataframe column, where the\n",
    "        key is the column name and the value is the fill value.\n",
    "    '''\n",
    "    \n",
    "    for col, value in kwargs.items():\n",
    "        try:\n",
    "            data[col].cat.add_categories([value], inplace=True)\n",
    "        except:\n",
    "            pass\n",
    "        data[col].fillna(value=value, inplace=True)\n",
    "        "
   ]
  },
  {
   "cell_type": "code",
   "execution_count": null,
   "metadata": {},
   "outputs": [],
   "source": [
    "fill_dict = {'Alley': 'No Alley Access', 'Mas Vnr Type': 'None', 'Bsmt Qual': 'No Basement', \n",
    "             'Bsmt Cond': 'No Basement', 'BsmtFin Type 1': 'No Basement', 'BsmtFinType 2': 'No Basement', \n",
    "             'Eletrical': ''}\n",
    "fill_nulls(data, **fill_dict)"
   ]
  },
  {
   "cell_type": "code",
   "execution_count": null,
   "metadata": {
    "scrolled": true
   },
   "outputs": [],
   "source": [
    "# From the codebook, a Null value for alley means no alley access so we can fill that in as a separate class\n",
    "try:\n",
    "    data['Alley'].cat.add_categories(['No Alley Access'], inplace=True)\n",
    "except:\n",
    "    pass\n",
    "data['Alley'].fillna(value='No Alley Access', inplace=True)"
   ]
  },
  {
   "cell_type": "code",
   "execution_count": null,
   "metadata": {},
   "outputs": [],
   "source": [
    "# From the codebook, a Null value for Mas Vnr Type should be None\n",
    "data['Mas Vnr Type'].fillna(value='None', inplace=True)"
   ]
  },
  {
   "cell_type": "code",
   "execution_count": null,
   "metadata": {
    "scrolled": true
   },
   "outputs": [],
   "source": [
    "# From the codebook, a Null value for Bsmt Qual indicates No Basement\n",
    "try:\n",
    "    data['Bsmt Qual'].cat.add_categories(['No Basement'], inplace=True)\n",
    "except:\n",
    "    pass\n",
    "data['Bsmt Qual'].fillna(value='No Basement', inplace=True)\n"
   ]
  },
  {
   "cell_type": "code",
   "execution_count": null,
   "metadata": {},
   "outputs": [],
   "source": [
    "# Make the basement qual variable an ordinal variable\n",
    "catg_order = ['No Basement', 'Po', 'Fa', 'TA', 'Gd', 'Ex']\n",
    "data['Bsmt Qual'] = pd.Categorical(data['Bsmt Qual'], ordered=True, categories=catg_order)"
   ]
  },
  {
   "cell_type": "code",
   "execution_count": null,
   "metadata": {},
   "outputs": [],
   "source": [
    "# From the codebook, a Null value for Bsmt Cond indicates No Basement\n",
    "try:\n",
    "    data['Bsmt Cond'].cat.add_categories(['No Basement'], inplace=True)\n",
    "except:\n",
    "    pass\n",
    "data['Bsmt Cond'].fillna(value='No Basement', inplace=True)\n",
    "\n",
    "# Make the basement cond variable an ordinal variable\n",
    "catg_order = ['No Basement', 'Po', 'Fa', 'TA', 'Gd', 'Ex']\n",
    "data['Bsmt Cond'] = pd.Categorical(data['Bsmt Cond'], ordered=True, categories=catg_order)\n",
    "\n",
    "## Note: There are equal number of null values for Bsmt Qual as for Bsmt Cond, which makes sense"
   ]
  },
  {
   "cell_type": "code",
   "execution_count": null,
   "metadata": {},
   "outputs": [],
   "source": []
  },
  {
   "cell_type": "code",
   "execution_count": null,
   "metadata": {},
   "outputs": [],
   "source": [
    "# Define a helper function to show the distribution of records across all labels for a\n",
    "# given set of categorical variables\n",
    "def show_label_distr(df, catg_vars):\n",
    "    for var in catg_vars:\n",
    "        # Replace null values with a label\n",
    "        if any(pd.isnull(data[var])):\n",
    "            df[var].fillna('None', inplace=True)\n",
    "        print(df.groupby(var).size().sort_values(ascending=False), '\\n')"
   ]
  },
  {
   "cell_type": "code",
   "execution_count": null,
   "metadata": {},
   "outputs": [],
   "source": []
  },
  {
   "cell_type": "code",
   "execution_count": null,
   "metadata": {},
   "outputs": [],
   "source": []
  },
  {
   "cell_type": "code",
   "execution_count": null,
   "metadata": {
    "scrolled": false
   },
   "outputs": [],
   "source": [
    "show_label_distr(data, vars_w_na_data)"
   ]
  },
  {
   "cell_type": "code",
   "execution_count": null,
   "metadata": {},
   "outputs": [],
   "source": [
    "# Get the class counts for categorical variables\n",
    "ms_subclass = data.groupby('MS SubClass').size().sort_values(ascending=False)\n",
    "print(ms_subclass)"
   ]
  },
  {
   "cell_type": "code",
   "execution_count": null,
   "metadata": {},
   "outputs": [],
   "source": [
    "ms_zoning = data.groupby('MS Zoning').size().sort_values(ascending=False)\n",
    "print(ms_zoning)"
   ]
  },
  {
   "cell_type": "code",
   "execution_count": null,
   "metadata": {},
   "outputs": [],
   "source": [
    "street = data.groupby('Street').size().sort_values(ascending=False)\n",
    "print(street)"
   ]
  },
  {
   "cell_type": "code",
   "execution_count": null,
   "metadata": {},
   "outputs": [],
   "source": [
    "alley = data.groupby('Alley').size()\n",
    "print(alley)\n",
    "print('There are {} null values in Alley'.format(len(data) - alley.sum()))"
   ]
  },
  {
   "cell_type": "code",
   "execution_count": null,
   "metadata": {},
   "outputs": [],
   "source": [
    "# Fill in alley null values with another meaningful label\n",
    "data['Alley'].fillna('No Alley Access'.astype('category'), inplace=True)\n",
    "alley = data.groupby('Alley').size()\n",
    "print(alley)"
   ]
  },
  {
   "cell_type": "code",
   "execution_count": null,
   "metadata": {},
   "outputs": [],
   "source": [
    "data.columns"
   ]
  },
  {
   "cell_type": "code",
   "execution_count": null,
   "metadata": {},
   "outputs": [],
   "source": []
  }
 ],
 "metadata": {
  "kernelspec": {
   "display_name": "Python [conda env:ml]",
   "language": "python",
   "name": "conda-env-ml-py"
  },
  "language_info": {
   "codemirror_mode": {
    "name": "ipython",
    "version": 3
   },
   "file_extension": ".py",
   "mimetype": "text/x-python",
   "name": "python",
   "nbconvert_exporter": "python",
   "pygments_lexer": "ipython3",
   "version": "3.6.6"
  }
 },
 "nbformat": 4,
 "nbformat_minor": 2
}
